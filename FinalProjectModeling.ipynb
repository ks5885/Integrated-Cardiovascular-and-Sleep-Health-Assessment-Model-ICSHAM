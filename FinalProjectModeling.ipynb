{
 "cells": [
  {
   "cell_type": "code",
   "execution_count": 1,
   "id": "760c6823",
   "metadata": {},
   "outputs": [],
   "source": [
    "import pandas as pd\n",
    "from sklearn.ensemble import RandomForestClassifier\n",
    "from sklearn.tree import DecisionTreeClassifier\n",
    "from sklearn.linear_model import LogisticRegression\n",
    "from sklearn.linear_model import LinearRegression\n",
    "from sklearn.model_selection import train_test_split\n",
    "from sklearn.preprocessing import MinMaxScaler\n",
    "from sklearn.metrics import accuracy_score, roc_curve, auc, f1_score\n",
    "from sklearn.neighbors import KNeighborsClassifier\n",
    "import numpy as np\n",
    "import matplotlib.pyplot as plt"
   ]
  },
  {
   "cell_type": "code",
   "execution_count": 2,
   "id": "bcc83911",
   "metadata": {},
   "outputs": [
    {
     "data": {
      "text/html": [
       "<div>\n",
       "<style scoped>\n",
       "    .dataframe tbody tr th:only-of-type {\n",
       "        vertical-align: middle;\n",
       "    }\n",
       "\n",
       "    .dataframe tbody tr th {\n",
       "        vertical-align: top;\n",
       "    }\n",
       "\n",
       "    .dataframe thead th {\n",
       "        text-align: right;\n",
       "    }\n",
       "</style>\n",
       "<table border=\"1\" class=\"dataframe\">\n",
       "  <thead>\n",
       "    <tr style=\"text-align: right;\">\n",
       "      <th></th>\n",
       "      <th>age</th>\n",
       "      <th>gender</th>\n",
       "      <th>ap_hi</th>\n",
       "      <th>ap_lo</th>\n",
       "      <th>ap</th>\n",
       "      <th>active</th>\n",
       "      <th>bmi_level</th>\n",
       "      <th>cardio</th>\n",
       "      <th>height</th>\n",
       "      <th>weight</th>\n",
       "      <th>...</th>\n",
       "      <th>gluc</th>\n",
       "      <th>smoke</th>\n",
       "      <th>alco</th>\n",
       "      <th>sleep_duration</th>\n",
       "      <th>quality_sleep</th>\n",
       "      <th>p_active_level</th>\n",
       "      <th>stress_level</th>\n",
       "      <th>heart_rate</th>\n",
       "      <th>steps</th>\n",
       "      <th>occupation</th>\n",
       "    </tr>\n",
       "  </thead>\n",
       "  <tbody>\n",
       "    <tr>\n",
       "      <th>0</th>\n",
       "      <td>40.0</td>\n",
       "      <td>2.0</td>\n",
       "      <td>126.0</td>\n",
       "      <td>81.0</td>\n",
       "      <td>44.0</td>\n",
       "      <td>0.0</td>\n",
       "      <td>2.0</td>\n",
       "      <td>1.0</td>\n",
       "      <td>180.0</td>\n",
       "      <td>94.0</td>\n",
       "      <td>...</td>\n",
       "      <td>1.0</td>\n",
       "      <td>0.0</td>\n",
       "      <td>1.0</td>\n",
       "      <td>10.0</td>\n",
       "      <td>8.0</td>\n",
       "      <td>1.0</td>\n",
       "      <td>8.0</td>\n",
       "      <td>95.0</td>\n",
       "      <td>7000.0</td>\n",
       "      <td>Software Engineer</td>\n",
       "    </tr>\n",
       "    <tr>\n",
       "      <th>1</th>\n",
       "      <td>44.0</td>\n",
       "      <td>2.0</td>\n",
       "      <td>139.0</td>\n",
       "      <td>76.0</td>\n",
       "      <td>63.0</td>\n",
       "      <td>1.0</td>\n",
       "      <td>2.0</td>\n",
       "      <td>1.0</td>\n",
       "      <td>179.0</td>\n",
       "      <td>87.0</td>\n",
       "      <td>...</td>\n",
       "      <td>1.0</td>\n",
       "      <td>1.0</td>\n",
       "      <td>1.0</td>\n",
       "      <td>8.0</td>\n",
       "      <td>7.0</td>\n",
       "      <td>1.0</td>\n",
       "      <td>6.0</td>\n",
       "      <td>66.0</td>\n",
       "      <td>9000.0</td>\n",
       "      <td>Accountant</td>\n",
       "    </tr>\n",
       "    <tr>\n",
       "      <th>2</th>\n",
       "      <td>35.0</td>\n",
       "      <td>2.0</td>\n",
       "      <td>122.0</td>\n",
       "      <td>69.0</td>\n",
       "      <td>52.0</td>\n",
       "      <td>0.0</td>\n",
       "      <td>3.0</td>\n",
       "      <td>1.0</td>\n",
       "      <td>176.0</td>\n",
       "      <td>105.0</td>\n",
       "      <td>...</td>\n",
       "      <td>1.0</td>\n",
       "      <td>0.0</td>\n",
       "      <td>0.0</td>\n",
       "      <td>8.0</td>\n",
       "      <td>7.0</td>\n",
       "      <td>3.0</td>\n",
       "      <td>5.0</td>\n",
       "      <td>76.0</td>\n",
       "      <td>4000.0</td>\n",
       "      <td>Salesperson</td>\n",
       "    </tr>\n",
       "    <tr>\n",
       "      <th>3</th>\n",
       "      <td>38.0</td>\n",
       "      <td>2.0</td>\n",
       "      <td>130.0</td>\n",
       "      <td>78.0</td>\n",
       "      <td>52.0</td>\n",
       "      <td>0.0</td>\n",
       "      <td>2.0</td>\n",
       "      <td>0.0</td>\n",
       "      <td>170.0</td>\n",
       "      <td>82.0</td>\n",
       "      <td>...</td>\n",
       "      <td>1.0</td>\n",
       "      <td>1.0</td>\n",
       "      <td>0.0</td>\n",
       "      <td>10.0</td>\n",
       "      <td>8.0</td>\n",
       "      <td>2.0</td>\n",
       "      <td>6.0</td>\n",
       "      <td>74.0</td>\n",
       "      <td>6000.0</td>\n",
       "      <td>Sales Representative</td>\n",
       "    </tr>\n",
       "    <tr>\n",
       "      <th>4</th>\n",
       "      <td>38.0</td>\n",
       "      <td>2.0</td>\n",
       "      <td>106.0</td>\n",
       "      <td>68.0</td>\n",
       "      <td>38.0</td>\n",
       "      <td>0.0</td>\n",
       "      <td>2.0</td>\n",
       "      <td>0.0</td>\n",
       "      <td>166.0</td>\n",
       "      <td>70.0</td>\n",
       "      <td>...</td>\n",
       "      <td>1.0</td>\n",
       "      <td>0.0</td>\n",
       "      <td>0.0</td>\n",
       "      <td>10.0</td>\n",
       "      <td>8.0</td>\n",
       "      <td>3.0</td>\n",
       "      <td>3.0</td>\n",
       "      <td>89.0</td>\n",
       "      <td>7000.0</td>\n",
       "      <td>Lawyer</td>\n",
       "    </tr>\n",
       "  </tbody>\n",
       "</table>\n",
       "<p>5 rows × 22 columns</p>\n",
       "</div>"
      ],
      "text/plain": [
       "    age  gender  ap_hi  ap_lo    ap  active  bmi_level  cardio  height  \\\n",
       "0  40.0     2.0  126.0   81.0  44.0     0.0        2.0     1.0   180.0   \n",
       "1  44.0     2.0  139.0   76.0  63.0     1.0        2.0     1.0   179.0   \n",
       "2  35.0     2.0  122.0   69.0  52.0     0.0        3.0     1.0   176.0   \n",
       "3  38.0     2.0  130.0   78.0  52.0     0.0        2.0     0.0   170.0   \n",
       "4  38.0     2.0  106.0   68.0  38.0     0.0        2.0     0.0   166.0   \n",
       "\n",
       "   weight  ...  gluc  smoke  alco  sleep_duration  quality_sleep  \\\n",
       "0    94.0  ...   1.0    0.0   1.0            10.0            8.0   \n",
       "1    87.0  ...   1.0    1.0   1.0             8.0            7.0   \n",
       "2   105.0  ...   1.0    0.0   0.0             8.0            7.0   \n",
       "3    82.0  ...   1.0    1.0   0.0            10.0            8.0   \n",
       "4    70.0  ...   1.0    0.0   0.0            10.0            8.0   \n",
       "\n",
       "   p_active_level  stress_level  heart_rate   steps            occupation  \n",
       "0             1.0           8.0        95.0  7000.0     Software Engineer  \n",
       "1             1.0           6.0        66.0  9000.0            Accountant  \n",
       "2             3.0           5.0        76.0  4000.0           Salesperson  \n",
       "3             2.0           6.0        74.0  6000.0  Sales Representative  \n",
       "4             3.0           3.0        89.0  7000.0                Lawyer  \n",
       "\n",
       "[5 rows x 22 columns]"
      ]
     },
     "execution_count": 2,
     "metadata": {},
     "output_type": "execute_result"
    }
   ],
   "source": [
    "df = pd.read_csv('resultantDataset.csv')\n",
    "df.head()"
   ]
  },
  {
   "cell_type": "code",
   "execution_count": 3,
   "id": "f3aac0a3",
   "metadata": {},
   "outputs": [],
   "source": [
    "features = [column for column in df.columns if column != 'cardio' and column != 'occupation']\n",
    "x = df[features]\n",
    "y = df['cardio']\n",
    "x_train, x_test, y_train, y_test = train_test_split(x,y,test_size = 0.2,random_state = 42)"
   ]
  },
  {
   "cell_type": "markdown",
   "id": "ed87ec9b",
   "metadata": {},
   "source": [
    "# Random Forest Model"
   ]
  },
  {
   "cell_type": "code",
   "execution_count": 4,
   "id": "8afc05be",
   "metadata": {},
   "outputs": [],
   "source": [
    "n_estimators = [i*10 for i in range(1,11)]\n",
    "criterions = ['gini','entropy','log_loss']\n",
    "max_depth = [i for i in range(2,6)]\n",
    "rfModelAccuracy = list()\n",
    "rfAucs = list()\n",
    "rfModelParameters = list()\n",
    "rfF1Scores = list()\n",
    "fprs = list()\n",
    "tprs = list()\n",
    "for estimator in n_estimators:\n",
    "    for crits in criterions:\n",
    "        for depth in max_depth:\n",
    "            model = RandomForestClassifier(n_estimators = estimator, criterion = crits, max_depth = depth)\n",
    "            model.fit(x_train,y_train)\n",
    "            yHat = model.predict(x_test)\n",
    "            rfModelAccuracy.append(accuracy_score(y_test,yHat))\n",
    "            fpr, tpr, thresholds = roc_curve(y_test, yHat, pos_label=1)\n",
    "            rfAucs.append(auc(fpr, tpr))\n",
    "            tprs.append(tpr)\n",
    "            fprs.append(fpr)\n",
    "            rfF1Scores.append(f1_score(y_test,yHat))\n",
    "            params = {'n_estimator':estimator,'criterion':crits,'max_depth':depth}\n",
    "            rfModelParameters.append(params)"
   ]
  },
  {
   "cell_type": "code",
   "execution_count": 5,
   "id": "6c26b027",
   "metadata": {},
   "outputs": [
    {
     "data": {
      "text/html": [
       "<div>\n",
       "<style scoped>\n",
       "    .dataframe tbody tr th:only-of-type {\n",
       "        vertical-align: middle;\n",
       "    }\n",
       "\n",
       "    .dataframe tbody tr th {\n",
       "        vertical-align: top;\n",
       "    }\n",
       "\n",
       "    .dataframe thead th {\n",
       "        text-align: right;\n",
       "    }\n",
       "</style>\n",
       "<table border=\"1\" class=\"dataframe\">\n",
       "  <thead>\n",
       "    <tr style=\"text-align: right;\">\n",
       "      <th></th>\n",
       "      <th>N_estimator</th>\n",
       "      <th>Criterion</th>\n",
       "      <th>Max_depth</th>\n",
       "      <th>Accuracy</th>\n",
       "      <th>AUC</th>\n",
       "      <th>F1-Score</th>\n",
       "    </tr>\n",
       "  </thead>\n",
       "  <tbody>\n",
       "    <tr>\n",
       "      <th>0</th>\n",
       "      <td>50</td>\n",
       "      <td>gini</td>\n",
       "      <td>5</td>\n",
       "      <td>0.828729</td>\n",
       "      <td>0.663043</td>\n",
       "      <td>0.491803</td>\n",
       "    </tr>\n",
       "    <tr>\n",
       "      <th>1</th>\n",
       "      <td>80</td>\n",
       "      <td>log_loss</td>\n",
       "      <td>5</td>\n",
       "      <td>0.828729</td>\n",
       "      <td>0.663043</td>\n",
       "      <td>0.491803</td>\n",
       "    </tr>\n",
       "    <tr>\n",
       "      <th>2</th>\n",
       "      <td>90</td>\n",
       "      <td>entropy</td>\n",
       "      <td>5</td>\n",
       "      <td>0.828729</td>\n",
       "      <td>0.663043</td>\n",
       "      <td>0.491803</td>\n",
       "    </tr>\n",
       "    <tr>\n",
       "      <th>3</th>\n",
       "      <td>40</td>\n",
       "      <td>gini</td>\n",
       "      <td>5</td>\n",
       "      <td>0.823204</td>\n",
       "      <td>0.673671</td>\n",
       "      <td>0.515152</td>\n",
       "    </tr>\n",
       "    <tr>\n",
       "      <th>4</th>\n",
       "      <td>60</td>\n",
       "      <td>entropy</td>\n",
       "      <td>5</td>\n",
       "      <td>0.823204</td>\n",
       "      <td>0.652174</td>\n",
       "      <td>0.466667</td>\n",
       "    </tr>\n",
       "  </tbody>\n",
       "</table>\n",
       "</div>"
      ],
      "text/plain": [
       "   N_estimator Criterion  Max_depth  Accuracy       AUC  F1-Score\n",
       "0           50      gini          5  0.828729  0.663043  0.491803\n",
       "1           80  log_loss          5  0.828729  0.663043  0.491803\n",
       "2           90   entropy          5  0.828729  0.663043  0.491803\n",
       "3           40      gini          5  0.823204  0.673671  0.515152\n",
       "4           60   entropy          5  0.823204  0.652174  0.466667"
      ]
     },
     "execution_count": 5,
     "metadata": {},
     "output_type": "execute_result"
    }
   ],
   "source": [
    "results = sorted(list(zip(rfModelParameters,rfModelAccuracy,rfAucs,rfF1Scores)),key = lambda x: x[1],reverse = True)\n",
    "results = pd.DataFrame(results,columns = ['Parameters','Accuracy','AUC','F1-Score'])\n",
    "temp = results['Parameters'].apply(lambda x: {} if pd.isna(x) else x).apply(pd.Series)[['n_estimator', 'criterion','max_depth']]\n",
    "results = results.drop(columns = ['Parameters'])\n",
    "results = pd.concat([temp,results],axis = 1)\n",
    "results = results.rename(columns = {'n_estimator':'N_estimator','criterion':'Criterion','max_depth':'Max_depth'})\n",
    "results.head()"
   ]
  },
  {
   "cell_type": "code",
   "execution_count": 6,
   "id": "33db5fda",
   "metadata": {},
   "outputs": [
    {
     "data": {
      "image/png": "[encoded data removed]",
      "text/plain": [
       "<Figure size 432x288 with 1 Axes>"
      ]
     },
     "metadata": {
      "needs_background": "light"
     },
     "output_type": "display_data"
    }
   ],
   "source": [
    "plt.plot(fprs[np.argmax(rfModelAccuracy)], tprs[np.argmax(rfModelAccuracy)], color='orange',label='ROC curve (area = %0.2f)' % rfAucs[np.argmax(rfModelAccuracy)])\n",
    "plt.plot([0, 1], [0,1], color='seagreen',linestyle='--')\n",
    "plt.title('Random Forest Classifier ROC')\n",
    "plt.xlabel('False Positive Rate')\n",
    "plt.ylabel('True Positive Rate')\n",
    "plt.legend(loc = 'lower right')\n",
    "plt.show()"
   ]
  },
  {
   "cell_type": "markdown",
   "id": "74879fe7",
   "metadata": {},
   "source": [
    "# Decision Tree Model"
   ]
  },
  {
   "cell_type": "code",
   "execution_count": 7,
   "id": "6a8d54e5",
   "metadata": {},
   "outputs": [],
   "source": [
    "splitters = ['best','random']\n",
    "dtModelAccuracy = list()\n",
    "dtAucs = list()\n",
    "dtModelParameters = list()\n",
    "dtF1Scores = list()\n",
    "fprs = list()\n",
    "tprs = list()\n",
    "for estimator in n_estimators:\n",
    "    for split in splitters:\n",
    "        for depth in max_depth:\n",
    "            for crits in criterions:\n",
    "                model = DecisionTreeClassifier(splitter = split, criterion = crits, max_depth = depth)\n",
    "                model.fit(x_train,y_train)\n",
    "                yHat = model.predict(x_test)\n",
    "                dtModelAccuracy.append(accuracy_score(y_test,yHat))\n",
    "                fpr, tpr, thresholds = roc_curve(y_test, yHat, pos_label=1)\n",
    "                dtAucs.append(auc(fpr, tpr))\n",
    "                tprs.append(tpr)\n",
    "                fprs.append(fpr)\n",
    "                dtF1Scores.append(f1_score(y_test,yHat))\n",
    "                params = {'splitter':split,'criterion':crits,'max_depth':depth}\n",
    "                dtModelParameters.append(params)"
   ]
  },
  {
   "cell_type": "code",
   "execution_count": 8,
   "id": "8933be29",
   "metadata": {},
   "outputs": [
    {
     "data": {
      "text/html": [
       "<div>\n",
       "<style scoped>\n",
       "    .dataframe tbody tr th:only-of-type {\n",
       "        vertical-align: middle;\n",
       "    }\n",
       "\n",
       "    .dataframe tbody tr th {\n",
       "        vertical-align: top;\n",
       "    }\n",
       "\n",
       "    .dataframe thead th {\n",
       "        text-align: right;\n",
       "    }\n",
       "</style>\n",
       "<table border=\"1\" class=\"dataframe\">\n",
       "  <thead>\n",
       "    <tr style=\"text-align: right;\">\n",
       "      <th></th>\n",
       "      <th>Splitter</th>\n",
       "      <th>Criterion</th>\n",
       "      <th>Max_depth</th>\n",
       "      <th>Accuracy</th>\n",
       "      <th>AUC</th>\n",
       "      <th>F1-Score</th>\n",
       "    </tr>\n",
       "  </thead>\n",
       "  <tbody>\n",
       "    <tr>\n",
       "      <th>0</th>\n",
       "      <td>best</td>\n",
       "      <td>gini</td>\n",
       "      <td>5</td>\n",
       "      <td>0.828729</td>\n",
       "      <td>0.684541</td>\n",
       "      <td>0.537313</td>\n",
       "    </tr>\n",
       "    <tr>\n",
       "      <th>1</th>\n",
       "      <td>best</td>\n",
       "      <td>gini</td>\n",
       "      <td>5</td>\n",
       "      <td>0.828729</td>\n",
       "      <td>0.684541</td>\n",
       "      <td>0.537313</td>\n",
       "    </tr>\n",
       "    <tr>\n",
       "      <th>2</th>\n",
       "      <td>best</td>\n",
       "      <td>gini</td>\n",
       "      <td>5</td>\n",
       "      <td>0.828729</td>\n",
       "      <td>0.684541</td>\n",
       "      <td>0.537313</td>\n",
       "    </tr>\n",
       "    <tr>\n",
       "      <th>3</th>\n",
       "      <td>best</td>\n",
       "      <td>gini</td>\n",
       "      <td>5</td>\n",
       "      <td>0.828729</td>\n",
       "      <td>0.684541</td>\n",
       "      <td>0.537313</td>\n",
       "    </tr>\n",
       "    <tr>\n",
       "      <th>4</th>\n",
       "      <td>best</td>\n",
       "      <td>gini</td>\n",
       "      <td>5</td>\n",
       "      <td>0.828729</td>\n",
       "      <td>0.684541</td>\n",
       "      <td>0.537313</td>\n",
       "    </tr>\n",
       "  </tbody>\n",
       "</table>\n",
       "</div>"
      ],
      "text/plain": [
       "  Splitter Criterion  Max_depth  Accuracy       AUC  F1-Score\n",
       "0     best      gini          5  0.828729  0.684541  0.537313\n",
       "1     best      gini          5  0.828729  0.684541  0.537313\n",
       "2     best      gini          5  0.828729  0.684541  0.537313\n",
       "3     best      gini          5  0.828729  0.684541  0.537313\n",
       "4     best      gini          5  0.828729  0.684541  0.537313"
      ]
     },
     "execution_count": 8,
     "metadata": {},
     "output_type": "execute_result"
    }
   ],
   "source": [
    "results = sorted(list(zip(dtModelParameters,dtModelAccuracy,dtAucs,dtF1Scores)),key = lambda x: x[1],reverse = True)\n",
    "results = pd.DataFrame(results,columns = ['Parameters','Accuracy','AUC','F1-Score'])\n",
    "temp = results['Parameters'].apply(lambda x: {} if pd.isna(x) else x).apply(pd.Series)[['splitter', 'criterion','max_depth']]\n",
    "results = results.drop(columns = ['Parameters'])\n",
    "results = pd.concat([temp,results],axis = 1)\n",
    "results = results.rename(columns = {'splitter':'Splitter','criterion':'Criterion','max_depth':'Max_depth'})\n",
    "results.head()"
   ]
  },
  {
   "cell_type": "code",
   "execution_count": 9,
   "id": "767f6e1f",
   "metadata": {},
   "outputs": [
    {
     "data": {
      "image/png": "[encoded data removed]",
      "text/plain": [
       "<Figure size 432x288 with 1 Axes>"
      ]
     },
     "metadata": {
      "needs_background": "light"
     },
     "output_type": "display_data"
    }
   ],
   "source": [
    "plt.plot(fprs[np.argmax(dtModelAccuracy)], tprs[np.argmax(dtModelAccuracy)], color='orange',label='ROC curve (area = %0.2f)' % dtAucs[np.argmax(dtModelAccuracy)])\n",
    "plt.plot([0, 1], [0, 1], color='seagreen',linestyle='--')\n",
    "plt.title('Decision Tree Classifier ROC')\n",
    "plt.xlabel('False Positive Rate')\n",
    "plt.ylabel('True Positive Rate')\n",
    "plt.legend(loc = 'lower right')\n",
    "plt.show()"
   ]
  },
  {
   "cell_type": "markdown",
   "id": "ea034b72",
   "metadata": {},
   "source": [
    "# Logistic Regression"
   ]
  },
  {
   "cell_type": "code",
   "execution_count": 10,
   "id": "015b4457",
   "metadata": {},
   "outputs": [],
   "source": [
    "penalties = ['l1','l2','elasticnet',None]\n",
    "cValues = [i / 10 for i in range(1,11)]\n",
    "lRModelAccuracy = list()\n",
    "lRAucs = list()\n",
    "lRModelParameters = list()\n",
    "lRF1Scores = list()\n",
    "fprs = list()\n",
    "tprs = list()\n",
    "for pen in penalties:\n",
    "    for value in cValues:\n",
    "        if pen == 'elasticnet':\n",
    "            model = LogisticRegression(penalty = pen, C = value,solver = 'saga',l1_ratio = 1,max_iter = 10000)\n",
    "        elif pen == None:\n",
    "            model = LogisticRegression(penalty = None, max_iter = 10000,solver = 'saga')\n",
    "        else:\n",
    "            model = LogisticRegression(penalty = pen, C = value,solver = 'saga',max_iter = 10000)\n",
    "        model.fit(x_train,y_train)\n",
    "        yHat = model.predict(x_test)\n",
    "        lRModelAccuracy.append(accuracy_score(y_test,yHat))\n",
    "        fpr, tpr, thresholds = roc_curve(y_test, yHat, pos_label=1)\n",
    "        lRAucs.append(auc(fpr, tpr))\n",
    "        tprs.append(tpr)\n",
    "        fprs.append(fpr)\n",
    "        lRF1Scores.append(f1_score(y_test,yHat))\n",
    "        params = {'Penalty':pen,'C':value}\n",
    "        lRModelParameters.append(params)"
   ]
  },
  {
   "cell_type": "code",
   "execution_count": 11,
   "id": "493d7bb1",
   "metadata": {
    "scrolled": true
   },
   "outputs": [
    {
     "data": {
      "text/html": [
       "<div>\n",
       "<style scoped>\n",
       "    .dataframe tbody tr th:only-of-type {\n",
       "        vertical-align: middle;\n",
       "    }\n",
       "\n",
       "    .dataframe tbody tr th {\n",
       "        vertical-align: top;\n",
       "    }\n",
       "\n",
       "    .dataframe thead th {\n",
       "        text-align: right;\n",
       "    }\n",
       "</style>\n",
       "<table border=\"1\" class=\"dataframe\">\n",
       "  <thead>\n",
       "    <tr style=\"text-align: right;\">\n",
       "      <th></th>\n",
       "      <th>Penalty</th>\n",
       "      <th>C</th>\n",
       "      <th>Accuracy</th>\n",
       "      <th>AUC</th>\n",
       "      <th>F1-Score</th>\n",
       "    </tr>\n",
       "  </thead>\n",
       "  <tbody>\n",
       "    <tr>\n",
       "      <th>0</th>\n",
       "      <td>l1</td>\n",
       "      <td>0.1</td>\n",
       "      <td>0.773481</td>\n",
       "      <td>0.554348</td>\n",
       "      <td>0.196078</td>\n",
       "    </tr>\n",
       "    <tr>\n",
       "      <th>1</th>\n",
       "      <td>l1</td>\n",
       "      <td>0.2</td>\n",
       "      <td>0.773481</td>\n",
       "      <td>0.554348</td>\n",
       "      <td>0.196078</td>\n",
       "    </tr>\n",
       "    <tr>\n",
       "      <th>2</th>\n",
       "      <td>l1</td>\n",
       "      <td>0.3</td>\n",
       "      <td>0.773481</td>\n",
       "      <td>0.554348</td>\n",
       "      <td>0.196078</td>\n",
       "    </tr>\n",
       "    <tr>\n",
       "      <th>3</th>\n",
       "      <td>l1</td>\n",
       "      <td>0.4</td>\n",
       "      <td>0.773481</td>\n",
       "      <td>0.554348</td>\n",
       "      <td>0.196078</td>\n",
       "    </tr>\n",
       "    <tr>\n",
       "      <th>4</th>\n",
       "      <td>l1</td>\n",
       "      <td>0.5</td>\n",
       "      <td>0.773481</td>\n",
       "      <td>0.554348</td>\n",
       "      <td>0.196078</td>\n",
       "    </tr>\n",
       "  </tbody>\n",
       "</table>\n",
       "</div>"
      ],
      "text/plain": [
       "  Penalty    C  Accuracy       AUC  F1-Score\n",
       "0      l1  0.1  0.773481  0.554348  0.196078\n",
       "1      l1  0.2  0.773481  0.554348  0.196078\n",
       "2      l1  0.3  0.773481  0.554348  0.196078\n",
       "3      l1  0.4  0.773481  0.554348  0.196078\n",
       "4      l1  0.5  0.773481  0.554348  0.196078"
      ]
     },
     "execution_count": 11,
     "metadata": {},
     "output_type": "execute_result"
    }
   ],
   "source": [
    "results = sorted(list(zip(lRModelParameters,lRModelAccuracy,lRAucs,lRF1Scores)),key = lambda x: x[1],reverse = True)\n",
    "results = pd.DataFrame(results,columns = ['Parameters','Accuracy','AUC','F1-Score'])\n",
    "temp = results['Parameters'].apply(lambda x: {} if pd.isna(x) else x).apply(pd.Series)[['Penalty', 'C']]\n",
    "results = results.drop(columns = ['Parameters'])\n",
    "results = pd.concat([temp,results],axis = 1)\n",
    "results.head()"
   ]
  },
  {
   "cell_type": "code",
   "execution_count": 12,
   "id": "73a630db",
   "metadata": {},
   "outputs": [
    {
     "data": {
      "image/png": "[encoded data removed]",
      "text/plain": [
       "<Figure size 432x288 with 1 Axes>"
      ]
     },
     "metadata": {
      "needs_background": "light"
     },
     "output_type": "display_data"
    }
   ],
   "source": [
    "plt.plot(fprs[np.argmax(lRModelAccuracy)], tprs[np.argmax(lRModelAccuracy)], color='orange',label='ROC curve (area = %0.2f)' % lRAucs[np.argmax(lRModelAccuracy)])\n",
    "plt.plot([0, 1], [0, 1], color='seagreen',linestyle='--')\n",
    "plt.title('Logistic Regression ROC')\n",
    "plt.xlabel('False Positive Rate')\n",
    "plt.ylabel('True Positive Rate')\n",
    "plt.legend(loc = 'lower right')\n",
    "plt.show()"
   ]
  },
  {
   "cell_type": "markdown",
   "id": "21f5b768",
   "metadata": {},
   "source": [
    "# K-Nearest Neighbors"
   ]
  },
  {
   "cell_type": "code",
   "execution_count": 26,
   "id": "ae8e6f17",
   "metadata": {},
   "outputs": [],
   "source": [
    "n_neighbors = [i for i in range(2,31)]\n",
    "algorithms = ['auto','ball_tree','kd_tree','brute']\n",
    "knnModelAccuracy = list()\n",
    "knnAucs = list()\n",
    "knnModelParameters = list()\n",
    "knnF1Scores = list()\n",
    "fprs = list()\n",
    "tprs = list()\n",
    "for n in n_neighbors:\n",
    "    for algo in algorithms:\n",
    "        model = KNeighborsClassifier(n_neighbors = n, algorithm = algo)\n",
    "        model.fit(x_train,y_train)\n",
    "        yHat = model.predict(x_test)\n",
    "        knnModelAccuracy.append(accuracy_score(y_test,yHat))\n",
    "        fpr, tpr, thresholds = roc_curve(y_test, yHat, pos_label=1)\n",
    "        knnAucs.append(auc(fpr, tpr))\n",
    "        tprs.append(tpr)\n",
    "        fprs.append(fpr)\n",
    "        knnF1Scores.append(f1_score(y_test,yHat))\n",
    "        params = {'N_neighbors':n,'Algorithm':algo}\n",
    "        knnModelParameters.append(params)"
   ]
  },
  {
   "cell_type": "code",
   "execution_count": 27,
   "id": "992aff9b",
   "metadata": {},
   "outputs": [
    {
     "data": {
      "text/html": [
       "<div>\n",
       "<style scoped>\n",
       "    .dataframe tbody tr th:only-of-type {\n",
       "        vertical-align: middle;\n",
       "    }\n",
       "\n",
       "    .dataframe tbody tr th {\n",
       "        vertical-align: top;\n",
       "    }\n",
       "\n",
       "    .dataframe thead th {\n",
       "        text-align: right;\n",
       "    }\n",
       "</style>\n",
       "<table border=\"1\" class=\"dataframe\">\n",
       "  <thead>\n",
       "    <tr style=\"text-align: right;\">\n",
       "      <th></th>\n",
       "      <th>N_neighbors</th>\n",
       "      <th>Algorithm</th>\n",
       "      <th>Accuracy</th>\n",
       "      <th>AUC</th>\n",
       "      <th>F1-Score</th>\n",
       "    </tr>\n",
       "  </thead>\n",
       "  <tbody>\n",
       "    <tr>\n",
       "      <th>0</th>\n",
       "      <td>5</td>\n",
       "      <td>auto</td>\n",
       "      <td>0.795580</td>\n",
       "      <td>0.626490</td>\n",
       "      <td>0.412698</td>\n",
       "    </tr>\n",
       "    <tr>\n",
       "      <th>1</th>\n",
       "      <td>5</td>\n",
       "      <td>ball_tree</td>\n",
       "      <td>0.795580</td>\n",
       "      <td>0.626490</td>\n",
       "      <td>0.412698</td>\n",
       "    </tr>\n",
       "    <tr>\n",
       "      <th>2</th>\n",
       "      <td>5</td>\n",
       "      <td>kd_tree</td>\n",
       "      <td>0.795580</td>\n",
       "      <td>0.626490</td>\n",
       "      <td>0.412698</td>\n",
       "    </tr>\n",
       "    <tr>\n",
       "      <th>3</th>\n",
       "      <td>5</td>\n",
       "      <td>brute</td>\n",
       "      <td>0.795580</td>\n",
       "      <td>0.626490</td>\n",
       "      <td>0.412698</td>\n",
       "    </tr>\n",
       "    <tr>\n",
       "      <th>4</th>\n",
       "      <td>4</td>\n",
       "      <td>auto</td>\n",
       "      <td>0.790055</td>\n",
       "      <td>0.594122</td>\n",
       "      <td>0.321429</td>\n",
       "    </tr>\n",
       "  </tbody>\n",
       "</table>\n",
       "</div>"
      ],
      "text/plain": [
       "   N_neighbors  Algorithm  Accuracy       AUC  F1-Score\n",
       "0            5       auto  0.795580  0.626490  0.412698\n",
       "1            5  ball_tree  0.795580  0.626490  0.412698\n",
       "2            5    kd_tree  0.795580  0.626490  0.412698\n",
       "3            5      brute  0.795580  0.626490  0.412698\n",
       "4            4       auto  0.790055  0.594122  0.321429"
      ]
     },
     "execution_count": 27,
     "metadata": {},
     "output_type": "execute_result"
    }
   ],
   "source": [
    "results = sorted(list(zip(knnModelParameters,knnModelAccuracy,knnAucs,knnF1Scores)),key = lambda x: x[1],reverse = True)\n",
    "results = pd.DataFrame(results,columns = ['Parameters','Accuracy','AUC','F1-Score'])\n",
    "temp = results['Parameters'].apply(lambda x: {} if pd.isna(x) else x).apply(pd.Series)[['N_neighbors','Algorithm']]\n",
    "results = results.drop(columns = ['Parameters'])\n",
    "results = pd.concat([temp,results],axis = 1)\n",
    "results.head()"
   ]
  },
  {
   "cell_type": "code",
   "execution_count": 28,
   "id": "3de38f56",
   "metadata": {},
   "outputs": [
    {
     "data": {
      "image/png": "[encoded data removed]",
      "text/plain": [
       "<Figure size 432x288 with 1 Axes>"
      ]
     },
     "metadata": {
      "needs_background": "light"
     },
     "output_type": "display_data"
    }
   ],
   "source": [
    "plt.plot(fprs[np.argmax(knnModelAccuracy)], tprs[np.argmax(knnModelAccuracy)], color='orange',label='ROC curve (area = %0.2f)' % knnAucs[np.argmax(knnModelAccuracy)])\n",
    "plt.plot([0, 1], [0, 1], color='seagreen',linestyle='--')\n",
    "plt.title('KNN Classifier ROC')\n",
    "plt.xlabel('False Positive Rate')\n",
    "plt.ylabel('True Positive Rate')\n",
    "plt.legend(loc = 'lower right')\n",
    "plt.show()"
   ]
  },
  {
   "cell_type": "code",
   "execution_count": 29,
   "id": "df2dade0",
   "metadata": {},
   "outputs": [
    {
     "data": {
      "image/png": "[encoded data removed]",
      "text/plain": [
       "<Figure size 432x288 with 1 Axes>"
      ]
     },
     "metadata": {
      "needs_background": "light"
     },
     "output_type": "display_data"
    }
   ],
   "source": [
    "metrics = pd.DataFrame({'KNN':[knnModelAccuracy[np.argmax(knnModelAccuracy)],knnAucs[np.argmax(knnModelAccuracy)],dtF1Scores[np.argmax(dtModelAccuracy)]],\n",
    "                       'Decision Tree': [dtModelAccuracy[np.argmax(dtModelAccuracy)],dtAucs[np.argmax(dtModelAccuracy)],dtF1Scores[np.argmax(dtModelAccuracy)]],\n",
    "                       'Logistic Regression':[lRModelAccuracy[np.argmax(lRModelAccuracy)],lRAucs[np.argmax(lRModelAccuracy)],lRF1Scores[np.argmax(lRModelAccuracy)]],\n",
    "                       'Random Forest':[rfModelAccuracy[np.argmax(rfModelAccuracy)],rfAucs[np.argmax(rfModelAccuracy)],rfF1Scores[np.argmax(rfModelAccuracy)]]},\n",
    "                      index = ['Accuracy','AUC','F1-Score'])\n",
    "metrics.plot(kind ='bar')\n",
    "plt.title('Metric Scores for Classifier with Best Accuracy')\n",
    "plt.ylabel('Score')\n",
    "plt.xlabel('Metric')\n",
    "plt.show()"
   ]
  },
  {
   "cell_type": "code",
   "execution_count": 30,
   "id": "4186b781",
   "metadata": {},
   "outputs": [
    {
     "data": {
      "text/plain": [
       "Text(0.5, 1.0, 'Metric Scores for Classifier with Best Accuracy')"
      ]
     },
     "execution_count": 30,
     "metadata": {},
     "output_type": "execute_result"
    },
    {
     "data": {
      "image/png": "[encoded data removed]",
      "text/plain": [
       "<Figure size 432x288 with 1 Axes>"
      ]
     },
     "metadata": {
      "needs_background": "light"
     },
     "output_type": "display_data"
    }
   ],
   "source": [
    "metrics = pd.DataFrame({'Accuracy':[knnModelAccuracy[np.argmax(knnModelAccuracy)],dtModelAccuracy[np.argmax(dtModelAccuracy)],lRModelAccuracy[np.argmax(lRModelAccuracy)],rfModelAccuracy[np.argmax(rfModelAccuracy)]],\n",
    "                       'AUC': [knnAucs[np.argmax(knnModelAccuracy)],dtAucs[np.argmax(dtModelAccuracy)],lRAucs[np.argmax(lRModelAccuracy)],rfAucs[np.argmax(rfModelAccuracy)]],\n",
    "                       'F1-Score':[knnF1Scores[np.argmax(knnModelAccuracy)],dtF1Scores[np.argmax(dtModelAccuracy)],lRF1Scores[np.argmax(lRModelAccuracy)],rfF1Scores[np.argmax(rfModelAccuracy)]]},\n",
    "                      index = ['KNN','Decision Tree','Logistic Regression','Random Forest'])\n",
    "metrics.plot(kind ='bar')\n",
    "plt.title('Metric Scores for Classifier with Best Accuracy')"
   ]
  },
  {
   "cell_type": "code",
   "execution_count": 31,
   "id": "41ef4d21",
   "metadata": {},
   "outputs": [
    {
     "data": {
      "text/plain": [
       "116"
      ]
     },
     "execution_count": 31,
     "metadata": {},
     "output_type": "execute_result"
    }
   ],
   "source": [
    "len(knnModelParameters)"
   ]
  },
  {
   "cell_type": "code",
   "execution_count": 33,
   "id": "4219b282",
   "metadata": {},
   "outputs": [
    {
     "data": {
      "text/plain": [
       "(904, 22)"
      ]
     },
     "execution_count": 33,
     "metadata": {},
     "output_type": "execute_result"
    }
   ],
   "source": [
    "df.shape"
   ]
  },
  {
   "cell_type": "markdown",
   "id": "3daa3a70",
   "metadata": {},
   "source": [
    "# Normalizing Data"
   ]
  },
  {
   "cell_type": "code",
   "execution_count": 3,
   "id": "27b2e27d",
   "metadata": {},
   "outputs": [],
   "source": [
    "features = [column for column in df.columns if column != 'cardio' and column != 'occupation']\n",
    "x = df[features]\n",
    "y = df['cardio']\n",
    "scaler = MinMaxScaler()\n",
    "dataScaled = scaler.fit_transform(x)\n",
    "dataScaled = pd.DataFrame(dataScaled,columns = features)\n",
    "x_train, x_test, y_train, y_test = train_test_split(dataScaled,y,test_size = 0.2,random_state = 42)"
   ]
  },
  {
   "cell_type": "markdown",
   "id": "1a498672",
   "metadata": {},
   "source": [
    "# Random Forest Normalized"
   ]
  },
  {
   "cell_type": "code",
   "execution_count": 30,
   "id": "8e10ed25",
   "metadata": {},
   "outputs": [],
   "source": [
    "n_estimators = [i*10 for i in range(1,11)]\n",
    "criterions = ['gini','entropy','log_loss']\n",
    "max_depth = [i for i in range(2,6)]\n",
    "rfModelAccuracy = list()\n",
    "rfAucs = list()\n",
    "rfModelParameters = list()\n",
    "rfF1Scores = list()\n",
    "fprs = list()\n",
    "tprs = list()\n",
    "for estimator in n_estimators:\n",
    "    for crits in criterions:\n",
    "        for depth in max_depth:\n",
    "            model = RandomForestClassifier(n_estimators = estimator, criterion = crits, max_depth = depth)\n",
    "            model.fit(x_train,y_train)\n",
    "            yHat = model.predict(x_test)\n",
    "            rfModelAccuracy.append(accuracy_score(y_test,yHat))\n",
    "            fpr, tpr, thresholds = roc_curve(y_test, yHat, pos_label=1)\n",
    "            rfAucs.append(auc(fpr, tpr))\n",
    "            tprs.append(tpr)\n",
    "            fprs.append(fpr)\n",
    "            rfF1Scores.append(f1_score(y_test,yHat))\n",
    "            params = {'n_estimator':estimator,'criterion':crits,'max_depth':depth}\n",
    "            rfModelParameters.append(params)"
   ]
  },
  {
   "cell_type": "code",
   "execution_count": 31,
   "id": "41926108",
   "metadata": {},
   "outputs": [
    {
     "data": {
      "text/html": [
       "<div>\n",
       "<style scoped>\n",
       "    .dataframe tbody tr th:only-of-type {\n",
       "        vertical-align: middle;\n",
       "    }\n",
       "\n",
       "    .dataframe tbody tr th {\n",
       "        vertical-align: top;\n",
       "    }\n",
       "\n",
       "    .dataframe thead th {\n",
       "        text-align: right;\n",
       "    }\n",
       "</style>\n",
       "<table border=\"1\" class=\"dataframe\">\n",
       "  <thead>\n",
       "    <tr style=\"text-align: right;\">\n",
       "      <th></th>\n",
       "      <th>N_estimator</th>\n",
       "      <th>Criterion</th>\n",
       "      <th>Max_depth</th>\n",
       "      <th>Accuracy</th>\n",
       "      <th>AUC</th>\n",
       "      <th>F1-Score</th>\n",
       "    </tr>\n",
       "  </thead>\n",
       "  <tbody>\n",
       "    <tr>\n",
       "      <th>0</th>\n",
       "      <td>50</td>\n",
       "      <td>gini</td>\n",
       "      <td>5</td>\n",
       "      <td>0.834254</td>\n",
       "      <td>0.673913</td>\n",
       "      <td>0.516129</td>\n",
       "    </tr>\n",
       "    <tr>\n",
       "      <th>1</th>\n",
       "      <td>60</td>\n",
       "      <td>gini</td>\n",
       "      <td>5</td>\n",
       "      <td>0.834254</td>\n",
       "      <td>0.673913</td>\n",
       "      <td>0.516129</td>\n",
       "    </tr>\n",
       "    <tr>\n",
       "      <th>2</th>\n",
       "      <td>80</td>\n",
       "      <td>log_loss</td>\n",
       "      <td>5</td>\n",
       "      <td>0.834254</td>\n",
       "      <td>0.673913</td>\n",
       "      <td>0.516129</td>\n",
       "    </tr>\n",
       "    <tr>\n",
       "      <th>3</th>\n",
       "      <td>80</td>\n",
       "      <td>gini</td>\n",
       "      <td>5</td>\n",
       "      <td>0.828729</td>\n",
       "      <td>0.663043</td>\n",
       "      <td>0.491803</td>\n",
       "    </tr>\n",
       "    <tr>\n",
       "      <th>4</th>\n",
       "      <td>30</td>\n",
       "      <td>entropy</td>\n",
       "      <td>5</td>\n",
       "      <td>0.823204</td>\n",
       "      <td>0.652174</td>\n",
       "      <td>0.466667</td>\n",
       "    </tr>\n",
       "  </tbody>\n",
       "</table>\n",
       "</div>"
      ],
      "text/plain": [
       "   N_estimator Criterion  Max_depth  Accuracy       AUC  F1-Score\n",
       "0           50      gini          5  0.834254  0.673913  0.516129\n",
       "1           60      gini          5  0.834254  0.673913  0.516129\n",
       "2           80  log_loss          5  0.834254  0.673913  0.516129\n",
       "3           80      gini          5  0.828729  0.663043  0.491803\n",
       "4           30   entropy          5  0.823204  0.652174  0.466667"
      ]
     },
     "execution_count": 31,
     "metadata": {},
     "output_type": "execute_result"
    }
   ],
   "source": [
    "results = sorted(list(zip(rfModelParameters,rfModelAccuracy,rfAucs,rfF1Scores)),key = lambda x: x[1],reverse = True)\n",
    "results = pd.DataFrame(results,columns = ['Parameters','Accuracy','AUC','F1-Score'])\n",
    "temp = results['Parameters'].apply(lambda x: {} if pd.isna(x) else x).apply(pd.Series)[['n_estimator', 'criterion','max_depth']]\n",
    "results = results.drop(columns = ['Parameters'])\n",
    "results = pd.concat([temp,results],axis = 1)\n",
    "results = results.rename(columns = {'n_estimator':'N_estimator','criterion':'Criterion','max_depth':'Max_depth'})\n",
    "results.head()"
   ]
  },
  {
   "cell_type": "code",
   "execution_count": 32,
   "id": "9bec3ebc",
   "metadata": {},
   "outputs": [
    {
     "data": {
      "image/png": "[encoded data removed]",
      "text/plain": [
       "<Figure size 432x288 with 1 Axes>"
      ]
     },
     "metadata": {
      "needs_background": "light"
     },
     "output_type": "display_data"
    }
   ],
   "source": [
    "plt.plot(fprs[np.argmax(rfModelAccuracy)], tprs[np.argmax(rfModelAccuracy)], color='orange',label='ROC curve (area = %0.2f)' % rfAucs[np.argmax(rfModelAccuracy)])\n",
    "plt.plot([0, 1], [0,1], color='seagreen',linestyle='--')\n",
    "plt.title('Random Forest Classifier ROC')\n",
    "plt.xlabel('False Positive Rate')\n",
    "plt.ylabel('True Positive Rate')\n",
    "plt.legend(loc = 'lower right')\n",
    "plt.show()"
   ]
  },
  {
   "cell_type": "markdown",
   "id": "955f63a9",
   "metadata": {},
   "source": [
    "# Logisitic Regression Normalized"
   ]
  },
  {
   "cell_type": "code",
   "execution_count": 59,
   "id": "5abcb156",
   "metadata": {},
   "outputs": [],
   "source": [
    "penalties = ['l1','l2','elasticnet',None]\n",
    "cValues = [i / 10 for i in range(1,11)]\n",
    "lRModelAccuracy = list()\n",
    "lRAucs = list()\n",
    "lRModelParameters = list()\n",
    "lRF1Scores = list()\n",
    "fprs = list()\n",
    "tprs = list()\n",
    "for pen in penalties:\n",
    "    for value in cValues:\n",
    "        if pen == 'elasticnet':\n",
    "            model = LogisticRegression(penalty = pen, C = value,solver = 'saga',l1_ratio = 1,max_iter = 10000)\n",
    "        elif pen == None:\n",
    "            model = LogisticRegression(penalty = None, max_iter = 10000,solver = 'saga')\n",
    "        else:\n",
    "            model = LogisticRegression(penalty = pen, C = value,solver = 'saga',max_iter = 10000)\n",
    "        model.fit(x_train,y_train)\n",
    "        yHat = model.predict(x_test)\n",
    "        lRModelAccuracy.append(accuracy_score(y_test,yHat))\n",
    "        fpr, tpr, thresholds = roc_curve(y_test, yHat, pos_label=1)\n",
    "        lRAucs.append(auc(fpr, tpr))\n",
    "        tprs.append(tpr)\n",
    "        fprs.append(fpr)\n",
    "        lRF1Scores.append(f1_score(y_test,yHat))\n",
    "        params = {'Penalty':pen,'C':value}\n",
    "        lRModelParameters.append(params)"
   ]
  },
  {
   "cell_type": "code",
   "execution_count": 60,
   "id": "270f581c",
   "metadata": {},
   "outputs": [
    {
     "data": {
      "text/html": [
       "<div>\n",
       "<style scoped>\n",
       "    .dataframe tbody tr th:only-of-type {\n",
       "        vertical-align: middle;\n",
       "    }\n",
       "\n",
       "    .dataframe tbody tr th {\n",
       "        vertical-align: top;\n",
       "    }\n",
       "\n",
       "    .dataframe thead th {\n",
       "        text-align: right;\n",
       "    }\n",
       "</style>\n",
       "<table border=\"1\" class=\"dataframe\">\n",
       "  <thead>\n",
       "    <tr style=\"text-align: right;\">\n",
       "      <th></th>\n",
       "      <th>Penalty</th>\n",
       "      <th>C</th>\n",
       "      <th>Accuracy</th>\n",
       "      <th>AUC</th>\n",
       "      <th>F1-Score</th>\n",
       "    </tr>\n",
       "  </thead>\n",
       "  <tbody>\n",
       "    <tr>\n",
       "      <th>0</th>\n",
       "      <td>l1</td>\n",
       "      <td>0.4</td>\n",
       "      <td>0.823204</td>\n",
       "      <td>0.659340</td>\n",
       "      <td>0.483871</td>\n",
       "    </tr>\n",
       "    <tr>\n",
       "      <th>1</th>\n",
       "      <td>elasticnet</td>\n",
       "      <td>0.4</td>\n",
       "      <td>0.823204</td>\n",
       "      <td>0.659340</td>\n",
       "      <td>0.483871</td>\n",
       "    </tr>\n",
       "    <tr>\n",
       "      <th>2</th>\n",
       "      <td>l1</td>\n",
       "      <td>0.5</td>\n",
       "      <td>0.817680</td>\n",
       "      <td>0.648470</td>\n",
       "      <td>0.459016</td>\n",
       "    </tr>\n",
       "    <tr>\n",
       "      <th>3</th>\n",
       "      <td>l1</td>\n",
       "      <td>0.6</td>\n",
       "      <td>0.817680</td>\n",
       "      <td>0.648470</td>\n",
       "      <td>0.459016</td>\n",
       "    </tr>\n",
       "    <tr>\n",
       "      <th>4</th>\n",
       "      <td>l1</td>\n",
       "      <td>1.0</td>\n",
       "      <td>0.817680</td>\n",
       "      <td>0.655636</td>\n",
       "      <td>0.476190</td>\n",
       "    </tr>\n",
       "  </tbody>\n",
       "</table>\n",
       "</div>"
      ],
      "text/plain": [
       "      Penalty    C  Accuracy       AUC  F1-Score\n",
       "0          l1  0.4  0.823204  0.659340  0.483871\n",
       "1  elasticnet  0.4  0.823204  0.659340  0.483871\n",
       "2          l1  0.5  0.817680  0.648470  0.459016\n",
       "3          l1  0.6  0.817680  0.648470  0.459016\n",
       "4          l1  1.0  0.817680  0.655636  0.476190"
      ]
     },
     "execution_count": 60,
     "metadata": {},
     "output_type": "execute_result"
    }
   ],
   "source": [
    "results = sorted(list(zip(lRModelParameters,lRModelAccuracy,lRAucs,lRF1Scores)),key = lambda x: x[1],reverse = True)\n",
    "results = pd.DataFrame(results,columns = ['Parameters','Accuracy','AUC','F1-Score'])\n",
    "temp = results['Parameters'].apply(lambda x: {} if pd.isna(x) else x).apply(pd.Series)[['Penalty', 'C']]\n",
    "results = results.drop(columns = ['Parameters'])\n",
    "results = pd.concat([temp,results],axis = 1)\n",
    "results.head()"
   ]
  },
  {
   "cell_type": "code",
   "execution_count": 61,
   "id": "74af691e",
   "metadata": {},
   "outputs": [
    {
     "data": {
      "image/png": "[encoded data removed]",
      "text/plain": [
       "<Figure size 432x288 with 1 Axes>"
      ]
     },
     "metadata": {
      "needs_background": "light"
     },
     "output_type": "display_data"
    }
   ],
   "source": [
    "plt.plot(fprs[np.argmax(lRModelAccuracy)], tprs[np.argmax(lRModelAccuracy)], color='orange',label='ROC curve (area = %0.2f)' % lRAucs[np.argmax(lRModelAccuracy)])\n",
    "plt.plot([0, 1], [0, 1], color='seagreen',linestyle='--')\n",
    "plt.title('Logistic Regression ROC')\n",
    "plt.xlabel('False Positive Rate')\n",
    "plt.ylabel('True Positive Rate')\n",
    "plt.legend(loc = 'lower right')\n",
    "plt.show()"
   ]
  },
  {
   "cell_type": "markdown",
   "id": "912ab1da",
   "metadata": {},
   "source": [
    "# KNN Normalized"
   ]
  },
  {
   "cell_type": "code",
   "execution_count": 56,
   "id": "d44e89f5",
   "metadata": {},
   "outputs": [],
   "source": [
    "n_neighbors = [i for i in range(2,31)]\n",
    "algorithms = ['auto','ball_tree','kd_tree','brute']\n",
    "knnModelAccuracy = list()\n",
    "knnAucs = list()\n",
    "knnModelParameters = list()\n",
    "knnF1Scores = list()\n",
    "fprs = list()\n",
    "tprs = list()\n",
    "for n in n_neighbors:\n",
    "    for algo in algorithms:\n",
    "        model = KNeighborsClassifier(n_neighbors = n, algorithm = algo)\n",
    "        model.fit(x_train,y_train)\n",
    "        yHat = model.predict(x_test)\n",
    "        knnModelAccuracy.append(accuracy_score(y_test,yHat))\n",
    "        fpr, tpr, thresholds = roc_curve(y_test, yHat, pos_label=1)\n",
    "        knnAucs.append(auc(fpr, tpr))\n",
    "        tprs.append(tpr)\n",
    "        fprs.append(fpr)\n",
    "        knnF1Scores.append(f1_score(y_test,yHat))\n",
    "        params = {'N_neighbors':n,'Algorithm':algo}\n",
    "        knnModelParameters.append(params)"
   ]
  },
  {
   "cell_type": "code",
   "execution_count": 57,
   "id": "8561ef20",
   "metadata": {},
   "outputs": [
    {
     "data": {
      "text/html": [
       "<div>\n",
       "<style scoped>\n",
       "    .dataframe tbody tr th:only-of-type {\n",
       "        vertical-align: middle;\n",
       "    }\n",
       "\n",
       "    .dataframe tbody tr th {\n",
       "        vertical-align: top;\n",
       "    }\n",
       "\n",
       "    .dataframe thead th {\n",
       "        text-align: right;\n",
       "    }\n",
       "</style>\n",
       "<table border=\"1\" class=\"dataframe\">\n",
       "  <thead>\n",
       "    <tr style=\"text-align: right;\">\n",
       "      <th></th>\n",
       "      <th>N_neighbors</th>\n",
       "      <th>Algorithm</th>\n",
       "      <th>Accuracy</th>\n",
       "      <th>AUC</th>\n",
       "      <th>F1-Score</th>\n",
       "    </tr>\n",
       "  </thead>\n",
       "  <tbody>\n",
       "    <tr>\n",
       "      <th>0</th>\n",
       "      <td>4</td>\n",
       "      <td>auto</td>\n",
       "      <td>0.80663</td>\n",
       "      <td>0.648229</td>\n",
       "      <td>0.461538</td>\n",
       "    </tr>\n",
       "    <tr>\n",
       "      <th>1</th>\n",
       "      <td>4</td>\n",
       "      <td>ball_tree</td>\n",
       "      <td>0.80663</td>\n",
       "      <td>0.648229</td>\n",
       "      <td>0.461538</td>\n",
       "    </tr>\n",
       "    <tr>\n",
       "      <th>2</th>\n",
       "      <td>4</td>\n",
       "      <td>kd_tree</td>\n",
       "      <td>0.80663</td>\n",
       "      <td>0.648229</td>\n",
       "      <td>0.461538</td>\n",
       "    </tr>\n",
       "    <tr>\n",
       "      <th>3</th>\n",
       "      <td>4</td>\n",
       "      <td>brute</td>\n",
       "      <td>0.80663</td>\n",
       "      <td>0.648229</td>\n",
       "      <td>0.461538</td>\n",
       "    </tr>\n",
       "    <tr>\n",
       "      <th>4</th>\n",
       "      <td>5</td>\n",
       "      <td>auto</td>\n",
       "      <td>0.79558</td>\n",
       "      <td>0.662319</td>\n",
       "      <td>0.493151</td>\n",
       "    </tr>\n",
       "  </tbody>\n",
       "</table>\n",
       "</div>"
      ],
      "text/plain": [
       "   N_neighbors  Algorithm  Accuracy       AUC  F1-Score\n",
       "0            4       auto   0.80663  0.648229  0.461538\n",
       "1            4  ball_tree   0.80663  0.648229  0.461538\n",
       "2            4    kd_tree   0.80663  0.648229  0.461538\n",
       "3            4      brute   0.80663  0.648229  0.461538\n",
       "4            5       auto   0.79558  0.662319  0.493151"
      ]
     },
     "execution_count": 57,
     "metadata": {},
     "output_type": "execute_result"
    }
   ],
   "source": [
    "results = sorted(list(zip(knnModelParameters,knnModelAccuracy,knnAucs,knnF1Scores)),key = lambda x: x[1],reverse = True)\n",
    "results = pd.DataFrame(results,columns = ['Parameters','Accuracy','AUC','F1-Score'])\n",
    "temp = results['Parameters'].apply(lambda x: {} if pd.isna(x) else x).apply(pd.Series)[['N_neighbors','Algorithm']]\n",
    "results = results.drop(columns = ['Parameters'])\n",
    "results = pd.concat([temp,results],axis = 1)\n",
    "results.head()"
   ]
  },
  {
   "cell_type": "code",
   "execution_count": 58,
   "id": "9549b2c2",
   "metadata": {},
   "outputs": [
    {
     "data": {
      "image/png": "[encoded data removed]",
      "text/plain": [
       "<Figure size 432x288 with 1 Axes>"
      ]
     },
     "metadata": {
      "needs_background": "light"
     },
     "output_type": "display_data"
    }
   ],
   "source": [
    "plt.plot(fprs[np.argmax(knnModelAccuracy)], tprs[np.argmax(knnModelAccuracy)], color='orange',label='ROC curve (area = %0.2f)' % knnAucs[np.argmax(knnModelAccuracy)])\n",
    "plt.plot([0, 1], [0, 1], color='seagreen',linestyle='--')\n",
    "plt.title('KNN Classifier ROC')\n",
    "plt.xlabel('False Positive Rate')\n",
    "plt.ylabel('True Positive Rate')\n",
    "plt.legend(loc = 'lower right')\n",
    "plt.show()"
   ]
  },
  {
   "cell_type": "markdown",
   "id": "93c3a652",
   "metadata": {},
   "source": [
    "# FCNN"
   ]
  },
  {
   "cell_type": "code",
   "execution_count": 4,
   "id": "3bb50650",
   "metadata": {},
   "outputs": [],
   "source": [
    "import random\n",
    "import torch\n",
    "from torch import nn, optim\n",
    "from sklearn.metrics import roc_auc_score\n",
    "from torch.optim.lr_scheduler import StepLR"
   ]
  },
  {
   "cell_type": "code",
   "execution_count": 5,
   "id": "f0b867d7",
   "metadata": {},
   "outputs": [],
   "source": [
    "x_train_tensor = torch.tensor(x_train.values, dtype=torch.float32)\n",
    "x_test_tensor = torch.tensor(x_test.values, dtype=torch.float32)\n",
    "y_train_tensor = torch.tensor(y_train.values, dtype=torch.long)\n",
    "y_test_tensor = torch.tensor(y_test.values, dtype=torch.long)"
   ]
  },
  {
   "cell_type": "code",
   "execution_count": 14,
   "id": "a7d6b34f",
   "metadata": {},
   "outputs": [],
   "source": [
    "input_size = x_train.shape[1]\n",
    "model = nn.Sequential(\n",
    "    nn.Linear(input_size, 20),\n",
    "    nn.ReLU(),\n",
    "    nn.Linear(20,20),\n",
    "    nn.Dropout(0.2),\n",
    "    nn.Linear(20, 2)\n",
    ")\n",
    "loss_function = nn.CrossEntropyLoss()\n",
    "learning_rate = 0.1\n",
    "optimizer = optim.SGD(model.parameters(), lr=learning_rate)\n",
    "scheduler = StepLR(optimizer, step_size=200, gamma=0.2) \n",
    "for t in range(1000):\n",
    "    y_pred = model(x_train_tensor)\n",
    "    loss = loss_function(y_pred, y_train_tensor)\n",
    "    optimizer.zero_grad()\n",
    "    loss.backward()\n",
    "    optimizer.step()\n",
    "    scheduler.step()\n",
    "with torch.no_grad():\n",
    "    model.eval()\n",
    "    y_pred_prob = nn.functional.softmax(model(x_test_tensor), dim=1)[:, 1]\n",
    "    fpr, tpr, thresholds = roc_curve(y_test, y_pred_prob)\n",
    "    auc_score = roc_auc_score(y_test, y_pred_prob.numpy())"
   ]
  },
  {
   "cell_type": "code",
   "execution_count": 15,
   "id": "1fcd0535",
   "metadata": {},
   "outputs": [
    {
     "data": {
      "image/png": "[encoded data removed]",
      "text/plain": [
       "<Figure size 432x288 with 1 Axes>"
      ]
     },
     "metadata": {
      "needs_background": "light"
     },
     "output_type": "display_data"
    }
   ],
   "source": [
    "plt.plot(fpr, tpr, color='orange',label='ROC curve (area = %0.2f)' % auc_score)\n",
    "plt.plot([0, 1], [0, 1], color='seagreen',linestyle='--')\n",
    "plt.title('Neural Network ROC')\n",
    "plt.xlabel('False Positive Rate')\n",
    "plt.ylabel('True Positive Rate')\n",
    "plt.legend(loc = 'lower right')\n",
    "plt.show()"
   ]
  }
 ],
 "metadata": {
  "kernelspec": {
   "display_name": "Python 3 (ipykernel)",
   "language": "python",
   "name": "python3"
  },
  "language_info": {
   "codemirror_mode": {
    "name": "ipython",
    "version": 3
   },
   "file_extension": ".py",
   "mimetype": "text/x-python",
   "name": "python",
   "nbconvert_exporter": "python",
   "pygments_lexer": "ipython3",
   "version": "3.9.12"
  }
 },
 "nbformat": 4,
 "nbformat_minor": 5
}
